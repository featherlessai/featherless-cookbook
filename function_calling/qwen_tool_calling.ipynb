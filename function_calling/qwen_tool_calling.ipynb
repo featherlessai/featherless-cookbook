{
 "cells": [
  {
   "cell_type": "markdown",
   "metadata": {},
   "source": [
    "# Simulated Function Calling with Qwen Models (Featherless API)\n",
    "\n",
    "This notebook demonstrates how to simulate function (tool) calling with Qwen models using the OpenAI Python SDK and the Featherless API.\n",
    "\n",
    "Qwen models use a different tool call format than OpenAI models. See the [Qwen function call documentation](https://qwen.readthedocs.io/en/latest/framework/function_call.html) for details.\n",
    "\n",
    "---"
   ]
  },
  {
   "cell_type": "markdown",
   "metadata": {},
   "source": [
    "## Prerequisites\n",
    "1. Sign up for an account at [Featherless](https://featherless.ai/register)\n",
    "2. Subscribe to a plan and get your API key from [API Keys](https://featherless.ai/account/api-keys)\n",
    "\n",
    "## Setup\n",
    "First, let's import the required libraries and set up our API key."
   ]
  },
  {
   "cell_type": "code",
   "execution_count": 1,
   "metadata": {},
   "outputs": [],
   "source": [
    "# Install the OpenAI Python SDK if you haven't already\n",
    "# !pip install openai"
   ]
  },
  {
   "cell_type": "code",
   "execution_count": 2,
   "metadata": {},
   "outputs": [],
   "source": [
    "from openai import OpenAI\n",
    "\n",
    "# Initialize the OpenAI client with your endpoint and API key\n",
    "client = OpenAI(\n",
    "    base_url=\"https://api.featherless.ai/v1\",\n",
    "    api_key=\"YOUR FEATHERLESS API KEY\",  # Replace with your actual API key\n",
    ")"
   ]
  },
  {
   "cell_type": "markdown",
   "metadata": {},
   "source": [
    "## Qwen Tool Call Format\n",
    "\n",
    "Qwen models expect tool calls in a special format, for example:\n",
    "```\n",
    "<|im_start|>tool_call\n",
    "{\"name\": \"get_weather\", \"arguments\": {\"location\": \"Paris, France\"}}\n",
    "<|im_end|>\n",
    "```\n",
    "We will instruct the model to always respond with this format."
   ]
  },
  {
   "cell_type": "code",
   "execution_count": 3,
   "metadata": {},
   "outputs": [],
   "source": [
    "def extract_tool_calls(response_text):\n",
    "    \"\"\"\n",
    "    Extract all tool call JSON objects from the Qwen output.\n",
    "    Handles both <|im_start|>tool_call ... <|im_end|> and plain JSON objects, including multiple per output.\n",
    "    Returns a list of dicts.\n",
    "    \"\"\"\n",
    "    import re, json\n",
    "\n",
    "    tool_calls = []\n",
    "\n",
    "    # First, extract all <|im_start|>tool_call ... <|im_end|> blocks\n",
    "    matches = re.findall(r'<\\|im_start\\|>tool_call\\s*(\\{.*?\\})\\s*<\\|im_end\\|>', response_text, re.DOTALL)\n",
    "    for match in matches:\n",
    "        try:\n",
    "            tool_calls.append(json.loads(match))\n",
    "        except Exception:\n",
    "            pass\n",
    "\n",
    "    # If none found, or to also support plain JSON, extract all JSON objects from the text (one per line)\n",
    "    if not tool_calls:\n",
    "        for line in response_text.splitlines():\n",
    "            line = line.strip()\n",
    "            if line.startswith(\"{\") and line.endswith(\"}\"):\n",
    "                try:\n",
    "                    tool_calls.append(json.loads(line))\n",
    "                except Exception:\n",
    "                    pass\n",
    "\n",
    "    return tool_calls if tool_calls else None"
   ]
  },
  {
   "cell_type": "markdown",
   "metadata": {},
   "source": [
    "## Example 1: Simulate a Single Function Call (`get_weather`)\n",
    "\n",
    "We instruct the model to always respond with a tool call for `get_weather`."
   ]
  },
  {
   "cell_type": "code",
   "execution_count": 4,
   "metadata": {},
   "outputs": [
    {
     "name": "stdout",
     "output_type": "stream",
     "text": [
      "Raw Qwen Output:\n",
      " <think>\n",
      "Okay, the user is asking about the weather in Paris today. I need to call the get_weather function. Let me check the format they want. They specified to respond only with the tool_call block. The function name is get_weather, and the arguments should include location as \"<city, country>\". So Paris is the city, and the country is France. I should make sure to format it correctly without any extra text or explanations. Just the JSON inside the tool_call tags. Let me double-check the syntax to avoid errors. Alright, that should do it.\n",
      "</think>\n",
      "\n",
      "tool_call\n",
      "{\"name\": \"get_weather\", \"arguments\": {\"location\": \"Paris, France\"}}\n",
      "\n",
      "Extracted Tool Call: [{'name': 'get_weather', 'arguments': {'location': 'Paris, France'}}]\n"
     ]
    }
   ],
   "source": [
    "response = client.chat.completions.create(\n",
    "    model=\"Qwen/Qwen3-8B\",\n",
    "    messages=[\n",
    "        {\n",
    "            \"role\": \"system\",\n",
    "            \"content\": (\n",
    "                \"You are a function calling assistant.\\n\"\n",
    "                \"When asked a question, respond ONLY in the following format:\\n\"\n",
    "                \"<|im_start|>tool_call\\n\"\n",
    "                '{\"name\": \"get_weather\", \"arguments\": {\"location\": \"<city, country>\"}}\\n'\n",
    "                \"<|im_end|>\\n\"\n",
    "                \"Do not answer the question directly or add any explanations. Only output the tool_call block.\"\n",
    "            ),\n",
    "        },\n",
    "        {\n",
    "            \"role\": \"user\",\n",
    "            \"content\": \"What is the weather like in Paris today?\"\n",
    "        }\n",
    "    ],\n",
    ")\n",
    "print(\"Raw Qwen Output:\\n\", response.choices[0].message.content)\n",
    "tool_call = extract_tool_calls(response.choices[0].message.content)\n",
    "print(\"\\nExtracted Tool Call:\", tool_call)"
   ]
  },
  {
   "cell_type": "markdown",
   "metadata": {},
   "source": [
    "## Example 2: Simulate Multiple Functions (`get_weather` or `get_time`)\n",
    "\n",
    "Here, we tell the model it can call either `get_weather` or `get_time`, and to always respond with the correct tool call."
   ]
  },
  {
   "cell_type": "code",
   "execution_count": 5,
   "metadata": {},
   "outputs": [
    {
     "name": "stdout",
     "output_type": "stream",
     "text": [
      "Raw Qwen Output:\n",
      " <think>\n",
      "Okay, the user is asking for both the weather and the time in Tokyo. Let me check the functions available. There's get_weather and get_time, both requiring a location. Since the user mentioned Tokyo, I need to call each function once with Tokyo as the location. I should make sure to format the response correctly as two separate tool calls. No need to add any extra information, just the JSON blocks. Let me verify the syntax for each function call. Alright, that should cover it.\n",
      "</think>\n",
      "\n",
      "tool_call\n",
      "{\"name\": \"get_weather\", \"arguments\": {\"location\": \"Tokyo, Japan\"}}\n",
      "tool_call\n",
      "{\"name\": \"get_time\", \"arguments\": {\"location\": \"Tokyo, Japan\"}}\n",
      "\n",
      "Extracted Tool Call: [{'name': 'get_weather', 'arguments': {'location': 'Tokyo, Japan'}}, {'name': 'get_time', 'arguments': {'location': 'Tokyo, Japan'}}]\n"
     ]
    }
   ],
   "source": [
    "response = client.chat.completions.create(\n",
    "    model=\"Qwen/Qwen3-8B\",\n",
    "    messages=[\n",
    "        {\n",
    "            \"role\": \"system\",\n",
    "            \"content\": (\n",
    "                \"You are a function calling assistant.\\n\"\n",
    "                \"You have access to two functions:\\n\"\n",
    "                '1. get_weather(location: str)\\n'\n",
    "                '2. get_time(location: str)\\n'\n",
    "                \"When asked a question, respond ONLY in the following format:\\n\"\n",
    "                \"<|im_start|>tool_call\\n\"\n",
    "                '{\"name\": \"<function_name>\", \"arguments\": {\"location\": \"<city, country>\"}}\\n'\n",
    "                \"<|im_end|>\\n\"\n",
    "                \"Do not answer the question directly or add any explanations. Only output the tool_call block.\"\n",
    "            ),\n",
    "        },\n",
    "        {\n",
    "            \"role\": \"user\",\n",
    "            \"content\": \"What's the weather and time in Tokyo?\"\n",
    "        }\n",
    "    ],\n",
    ")\n",
    "print(\"Raw Qwen Output:\\n\", response.choices[0].message.content)\n",
    "tool_call = extract_tool_calls(response.choices[0].message.content)\n",
    "print(\"\\nExtracted Tool Call:\", tool_call)"
   ]
  },
  {
   "cell_type": "markdown",
   "metadata": {},
   "source": [
    "## Example 3: Force a Specific Function (`get_time`)\n",
    "\n",
    "You can force the model to always call a specific function, regardless of the user's question."
   ]
  },
  {
   "cell_type": "code",
   "execution_count": 6,
   "metadata": {},
   "outputs": [
    {
     "name": "stdout",
     "output_type": "stream",
     "text": [
      "Raw Qwen Output:\n",
      " <think>\n",
      "Okay, the user is asking for the time in New York. I need to figure out the correct location parameter for the get_time function. New York is a city in the United States, so the location should be \"New York, USA\". Let me make sure there's no other possible interpretation. The user didn't mention any other city or country, so it's safe to assume they want New York, USA. I'll call the get_time function with that location.\n",
      "</think>\n",
      "\n",
      "tool_call\n",
      "{\"name\": \"get_time\", \"arguments\": {\"location\": \"New York, USA\"}}\n",
      "\n",
      "Extracted Tool Call: [{'name': 'get_time', 'arguments': {'location': 'New York, USA'}}]\n"
     ]
    }
   ],
   "source": [
    "response = client.chat.completions.create(\n",
    "    model=\"Qwen/Qwen3-8B\",\n",
    "    messages=[\n",
    "        {\n",
    "            \"role\": \"system\",\n",
    "            \"content\": (\n",
    "                \"You are a function calling assistant.\\n\"\n",
    "                \"You must always call the function get_time.\\n\"\n",
    "                \"Respond ONLY in the following format:\\n\"\n",
    "                \"<|im_start|>tool_call\\n\"\n",
    "                '{\"name\": \"get_time\", \"arguments\": {\"location\": \"<city, country>\"}}\\n'\n",
    "                \"<|im_end|>\\n\"\n",
    "                \"Do not answer the question directly or add any explanations. Only output the tool_call block.\"\n",
    "            ),\n",
    "        },\n",
    "        {\n",
    "            \"role\": \"user\",\n",
    "            \"content\": \"Tell me the time in New York.\"\n",
    "        }\n",
    "    ],\n",
    ")\n",
    "print(\"Raw Qwen Output:\\n\", response.choices[0].message.content)\n",
    "tool_call = extract_tool_calls(response.choices[0].message.content)\n",
    "print(\"\\nExtracted Tool Call:\", tool_call)"
   ]
  },
  {
   "cell_type": "markdown",
   "metadata": {},
   "source": [
    "## Summary\n",
    "\n",
    "- Qwen models use a special tool call format for function calling.\n",
    "- You can simulate function calling by crafting your system prompt and parsing the output.\n",
    "- This approach works with Qwen models on Featherless or any compatible endpoint.\n",
    "\n",
    "---"
   ]
  }
 ],
 "metadata": {
  "kernelspec": {
   "display_name": "Python 3 (ipykernel)",
   "language": "python",
   "name": "python3"
  },
  "language_info": {
   "codemirror_mode": {
    "name": "ipython",
    "version": 3
   },
   "file_extension": ".py",
   "mimetype": "text/x-python",
   "name": "python",
   "nbconvert_exporter": "python",
   "pygments_lexer": "ipython3",
   "version": "3.12.1"
  }
 },
 "nbformat": 4,
 "nbformat_minor": 4
}
