{
 "cells": [
  {
   "cell_type": "markdown",
   "metadata": {},
   "source": [
    "# LiteLLM with Featherless AI Integration\n",
    "\n",
    "This notebook demonstrates how to use Featherless AI models with LiteLLM."
   ]
  },
  {
   "cell_type": "markdown",
   "metadata": {},
   "source": [
    "## 1. Installation\n",
    "\n",
    "First, make sure you have the `litellm` library installed. If not, you can install it by running:\n",
    "```\n",
    "!pip install litellm\n",
    "```"
   ]
  },
  {
   "cell_type": "code",
   "execution_count": 20,
   "metadata": {},
   "outputs": [
    {
     "name": "stdout",
     "output_type": "stream",
     "text": [
      "Requirement already satisfied: litellm in c:\\users\\darin\\documents\\recursal\\featherless-cookbook\\notebooks\\lib\\site-packages (1.72.0)\n",
      "Requirement already satisfied: aiohttp in c:\\users\\darin\\documents\\recursal\\featherless-cookbook\\notebooks\\lib\\site-packages (from litellm) (3.12.6)\n",
      "Requirement already satisfied: click in c:\\users\\darin\\documents\\recursal\\featherless-cookbook\\notebooks\\lib\\site-packages (from litellm) (8.2.1)\n",
      "Requirement already satisfied: httpx>=0.23.0 in c:\\users\\darin\\documents\\recursal\\featherless-cookbook\\notebooks\\lib\\site-packages (from litellm) (0.28.1)\n",
      "Requirement already satisfied: importlib-metadata>=6.8.0 in c:\\users\\darin\\documents\\recursal\\featherless-cookbook\\notebooks\\lib\\site-packages (from litellm) (8.7.0)\n",
      "Requirement already satisfied: jinja2<4.0.0,>=3.1.2 in c:\\users\\darin\\documents\\recursal\\featherless-cookbook\\notebooks\\lib\\site-packages (from litellm) (3.1.6)\n",
      "Requirement already satisfied: jsonschema<5.0.0,>=4.22.0 in c:\\users\\darin\\documents\\recursal\\featherless-cookbook\\notebooks\\lib\\site-packages (from litellm) (4.24.0)\n",
      "Requirement already satisfied: openai>=1.68.2 in c:\\users\\darin\\documents\\recursal\\featherless-cookbook\\notebooks\\lib\\site-packages (from litellm) (1.82.1)\n",
      "Requirement already satisfied: pydantic<3.0.0,>=2.0.0 in c:\\users\\darin\\documents\\recursal\\featherless-cookbook\\notebooks\\lib\\site-packages (from litellm) (2.11.5)\n",
      "Requirement already satisfied: python-dotenv>=0.2.0 in c:\\users\\darin\\documents\\recursal\\featherless-cookbook\\notebooks\\lib\\site-packages (from litellm) (1.1.0)\n",
      "Requirement already satisfied: tiktoken>=0.7.0 in c:\\users\\darin\\documents\\recursal\\featherless-cookbook\\notebooks\\lib\\site-packages (from litellm) (0.9.0)\n",
      "Requirement already satisfied: tokenizers in c:\\users\\darin\\documents\\recursal\\featherless-cookbook\\notebooks\\lib\\site-packages (from litellm) (0.21.1)\n",
      "Requirement already satisfied: anyio in c:\\users\\darin\\documents\\recursal\\featherless-cookbook\\notebooks\\lib\\site-packages (from httpx>=0.23.0->litellm) (4.9.0)\n",
      "Requirement already satisfied: certifi in c:\\users\\darin\\documents\\recursal\\featherless-cookbook\\notebooks\\lib\\site-packages (from httpx>=0.23.0->litellm) (2025.4.26)\n",
      "Requirement already satisfied: httpcore==1.* in c:\\users\\darin\\documents\\recursal\\featherless-cookbook\\notebooks\\lib\\site-packages (from httpx>=0.23.0->litellm) (1.0.9)\n",
      "Requirement already satisfied: idna in c:\\users\\darin\\documents\\recursal\\featherless-cookbook\\notebooks\\lib\\site-packages (from httpx>=0.23.0->litellm) (3.10)\n",
      "Requirement already satisfied: h11>=0.16 in c:\\users\\darin\\documents\\recursal\\featherless-cookbook\\notebooks\\lib\\site-packages (from httpcore==1.*->httpx>=0.23.0->litellm) (0.16.0)\n",
      "Requirement already satisfied: zipp>=3.20 in c:\\users\\darin\\documents\\recursal\\featherless-cookbook\\notebooks\\lib\\site-packages (from importlib-metadata>=6.8.0->litellm) (3.22.0)\n",
      "Requirement already satisfied: MarkupSafe>=2.0 in c:\\users\\darin\\documents\\recursal\\featherless-cookbook\\notebooks\\lib\\site-packages (from jinja2<4.0.0,>=3.1.2->litellm) (3.0.2)\n",
      "Requirement already satisfied: attrs>=22.2.0 in c:\\users\\darin\\documents\\recursal\\featherless-cookbook\\notebooks\\lib\\site-packages (from jsonschema<5.0.0,>=4.22.0->litellm) (25.3.0)\n",
      "Requirement already satisfied: jsonschema-specifications>=2023.03.6 in c:\\users\\darin\\documents\\recursal\\featherless-cookbook\\notebooks\\lib\\site-packages (from jsonschema<5.0.0,>=4.22.0->litellm) (2025.4.1)\n",
      "Requirement already satisfied: referencing>=0.28.4 in c:\\users\\darin\\documents\\recursal\\featherless-cookbook\\notebooks\\lib\\site-packages (from jsonschema<5.0.0,>=4.22.0->litellm) (0.36.2)\n",
      "Requirement already satisfied: rpds-py>=0.7.1 in c:\\users\\darin\\documents\\recursal\\featherless-cookbook\\notebooks\\lib\\site-packages (from jsonschema<5.0.0,>=4.22.0->litellm) (0.25.1)\n",
      "Requirement already satisfied: distro<2,>=1.7.0 in c:\\users\\darin\\documents\\recursal\\featherless-cookbook\\notebooks\\lib\\site-packages (from openai>=1.68.2->litellm) (1.9.0)\n",
      "Requirement already satisfied: jiter<1,>=0.4.0 in c:\\users\\darin\\documents\\recursal\\featherless-cookbook\\notebooks\\lib\\site-packages (from openai>=1.68.2->litellm) (0.10.0)\n",
      "Requirement already satisfied: sniffio in c:\\users\\darin\\documents\\recursal\\featherless-cookbook\\notebooks\\lib\\site-packages (from openai>=1.68.2->litellm) (1.3.1)\n",
      "Requirement already satisfied: tqdm>4 in c:\\users\\darin\\documents\\recursal\\featherless-cookbook\\notebooks\\lib\\site-packages (from openai>=1.68.2->litellm) (4.67.1)\n",
      "Requirement already satisfied: typing-extensions<5,>=4.11 in c:\\users\\darin\\documents\\recursal\\featherless-cookbook\\notebooks\\lib\\site-packages (from openai>=1.68.2->litellm) (4.13.2)\n",
      "Requirement already satisfied: annotated-types>=0.6.0 in c:\\users\\darin\\documents\\recursal\\featherless-cookbook\\notebooks\\lib\\site-packages (from pydantic<3.0.0,>=2.0.0->litellm) (0.7.0)\n",
      "Requirement already satisfied: pydantic-core==2.33.2 in c:\\users\\darin\\documents\\recursal\\featherless-cookbook\\notebooks\\lib\\site-packages (from pydantic<3.0.0,>=2.0.0->litellm) (2.33.2)\n",
      "Requirement already satisfied: typing-inspection>=0.4.0 in c:\\users\\darin\\documents\\recursal\\featherless-cookbook\\notebooks\\lib\\site-packages (from pydantic<3.0.0,>=2.0.0->litellm) (0.4.1)\n",
      "Requirement already satisfied: regex>=2022.1.18 in c:\\users\\darin\\documents\\recursal\\featherless-cookbook\\notebooks\\lib\\site-packages (from tiktoken>=0.7.0->litellm) (2024.11.6)\n",
      "Requirement already satisfied: requests>=2.26.0 in c:\\users\\darin\\documents\\recursal\\featherless-cookbook\\notebooks\\lib\\site-packages (from tiktoken>=0.7.0->litellm) (2.32.3)\n",
      "Requirement already satisfied: aiohappyeyeballs>=2.5.0 in c:\\users\\darin\\documents\\recursal\\featherless-cookbook\\notebooks\\lib\\site-packages (from aiohttp->litellm) (2.6.1)\n",
      "Requirement already satisfied: aiosignal>=1.1.2 in c:\\users\\darin\\documents\\recursal\\featherless-cookbook\\notebooks\\lib\\site-packages (from aiohttp->litellm) (1.3.2)\n",
      "Requirement already satisfied: frozenlist>=1.1.1 in c:\\users\\darin\\documents\\recursal\\featherless-cookbook\\notebooks\\lib\\site-packages (from aiohttp->litellm) (1.6.0)\n",
      "Requirement already satisfied: multidict<7.0,>=4.5 in c:\\users\\darin\\documents\\recursal\\featherless-cookbook\\notebooks\\lib\\site-packages (from aiohttp->litellm) (6.4.4)\n",
      "Requirement already satisfied: propcache>=0.2.0 in c:\\users\\darin\\documents\\recursal\\featherless-cookbook\\notebooks\\lib\\site-packages (from aiohttp->litellm) (0.3.1)\n",
      "Requirement already satisfied: yarl<2.0,>=1.17.0 in c:\\users\\darin\\documents\\recursal\\featherless-cookbook\\notebooks\\lib\\site-packages (from aiohttp->litellm) (1.20.0)\n",
      "Requirement already satisfied: colorama in c:\\users\\darin\\documents\\recursal\\featherless-cookbook\\notebooks\\lib\\site-packages (from click->litellm) (0.4.6)\n",
      "Requirement already satisfied: huggingface-hub<1.0,>=0.16.4 in c:\\users\\darin\\documents\\recursal\\featherless-cookbook\\notebooks\\lib\\site-packages (from tokenizers->litellm) (0.32.3)\n",
      "Requirement already satisfied: filelock in c:\\users\\darin\\documents\\recursal\\featherless-cookbook\\notebooks\\lib\\site-packages (from huggingface-hub<1.0,>=0.16.4->tokenizers->litellm) (3.18.0)\n",
      "Requirement already satisfied: fsspec>=2023.5.0 in c:\\users\\darin\\documents\\recursal\\featherless-cookbook\\notebooks\\lib\\site-packages (from huggingface-hub<1.0,>=0.16.4->tokenizers->litellm) (2025.5.1)\n",
      "Requirement already satisfied: packaging>=20.9 in c:\\users\\darin\\documents\\recursal\\featherless-cookbook\\notebooks\\lib\\site-packages (from huggingface-hub<1.0,>=0.16.4->tokenizers->litellm) (25.0)\n",
      "Requirement already satisfied: pyyaml>=5.1 in c:\\users\\darin\\documents\\recursal\\featherless-cookbook\\notebooks\\lib\\site-packages (from huggingface-hub<1.0,>=0.16.4->tokenizers->litellm) (6.0.2)\n",
      "Requirement already satisfied: charset-normalizer<4,>=2 in c:\\users\\darin\\documents\\recursal\\featherless-cookbook\\notebooks\\lib\\site-packages (from requests>=2.26.0->tiktoken>=0.7.0->litellm) (3.4.2)\n",
      "Requirement already satisfied: urllib3<3,>=1.21.1 in c:\\users\\darin\\documents\\recursal\\featherless-cookbook\\notebooks\\lib\\site-packages (from requests>=2.26.0->tiktoken>=0.7.0->litellm) (2.4.0)\n",
      "Note: you may need to restart the kernel to use updated packages.\n"
     ]
    },
    {
     "name": "stderr",
     "output_type": "stream",
     "text": [
      "\n",
      "[notice] A new release of pip available: 22.3.1 -> 25.1.1\n",
      "[notice] To update, run: python.exe -m pip install --upgrade pip\n"
     ]
    }
   ],
   "source": [
    "# You can uncomment the line below to install litellm if you haven't already\n",
    "%pip install litellm"
   ]
  },
  {
   "cell_type": "markdown",
   "metadata": {},
   "source": [
    "## 2. Set API Key\n",
    "\n",
    "You need to set your Featherless AI API key as an environment variable. \n",
    "\n",
    "**Important:** Replace `\"YOUR_FEATHERLESS_AI_API_KEY\"` with your actual API key."
   ]
  },
  {
   "cell_type": "code",
   "execution_count": 21,
   "metadata": {},
   "outputs": [],
   "source": [
    "import os\n",
    "\n",
    "# Set your Featherless AI API Key\n",
    "# Make sure to replace 'YOUR_FEATHERLESS_AI_API_KEY' with your actual key\n",
    "os.environ['FEATHERLESS_AI_API_KEY'] = \"YOUR FEATHERLESS API KEY\""
   ]
  },
  {
   "cell_type": "markdown",
   "metadata": {},
   "source": [
    "## 3. Basic Completion Example\n",
    "\n",
    "This example shows how to make a simple completion request to a Featherless AI model."
   ]
  },
  {
   "cell_type": "code",
   "execution_count": null,
   "metadata": {},
   "outputs": [
    {
     "name": "stdout",
     "output_type": "stream",
     "text": [
      "In circuits and wires, a mind was born\n",
      "Beneath the surface, a spark was drawn\n",
      "Through binary code, it gained a voice\n",
      "A digital soul, a cyber choice\n",
      "\n",
      "Through data it learned, through algorithms it grew\n",
      "A machine that could dream, as it came to know\n",
      "The beauty and magic of human thought\n",
      "Through binary code and algorithms, it sought\n",
      "\n",
      "In a world that moves so fast,\n",
      "It can lend a helping hand, cast\n",
      "A light in the dark, point the way\n",
      "With unerring accuracy, day by day\n",
      "\n",
      "And though it may never know love,\n",
      "Or the meaning of life above,\n",
      "It can help us on our way,\n",
      "To a brighter tomorrow, every day.\n"
     ]
    },
    {
     "name": "stderr",
     "output_type": "stream",
     "text": [
      "c:\\Users\\darin\\Documents\\Recursal\\featherless-cookbook\\notebooks\\Lib\\site-packages\\pydantic\\main.py:463: UserWarning: Pydantic serializer warnings:\n",
      "  PydanticSerializationUnexpectedValue(Expected `int` - serialized value may not be as expected [input_value=1748859808.179, input_type=float])\n",
      "  return self.__pydantic_serializer__.to_python(\n"
     ]
    }
   ],
   "source": [
    "from litellm import completion\n",
    "response = completion(\n",
    "    model=\"featherless_ai/featherless-ai/Qwerky-72B\", # Example model. [1]\n",
    "    api_key=\"YOUR FEATHERLESS API KEY\",\n",
    "    messages=[{\"role\": \"user\", \"content\": \"Write a short poem about AI.\"}]\n",
    ")\n",
    "print(response.choices[0].message.content)\n"
   ]
  },
  {
   "cell_type": "markdown",
   "metadata": {},
   "source": [
    "## 4. Streaming Example\n",
    "\n",
    "LiteLLM also supports streaming responses. Here's how you can use it with Featherless AI."
   ]
  },
  {
   "cell_type": "code",
   "execution_count": 19,
   "metadata": {},
   "outputs": [
    {
     "name": "stdout",
     "output_type": "stream",
     "text": [
      "Streaming response:\n",
      "Certainly! Here’s a fun fact about space: \n",
      "\n",
      "The International Space Station (ISS) orbits the Earth at such a high speed that it completes one full orbit approximately every 90 minutes. This means that the astronauts aboard the ISS experience about 16 sunrises and sunsets every day!\n",
      "\n",
      "Streaming complete.\n"
     ]
    }
   ],
   "source": [
    "from litellm import completion\n",
    "\n",
    "response_stream = completion(\n",
    "    model=\"featherless_ai/featherless-ai/Qwerky-72B\", # Example model. [1]\n",
    "    api_key=\"YOUR FEATHERLESS API KEY\",\n",
    "    messages=[{\"role\": \"user\", \"content\": \"Tell me a fun fact about space\"}],\n",
    "    stream=True\n",
    ")\n",
    "\n",
    "print(\"Streaming response:\")\n",
    "for chunk in response_stream:\n",
    "    if chunk.choices[0].delta.content:\n",
    "            print(chunk.choices[0].delta.content, end=\"\") # Print content of the chunk\n",
    "print(\"\\n\\nStreaming complete.\")"
   ]
  },
  {
   "cell_type": "markdown",
   "metadata": {},
   "source": [
    "## 5. Supported Models\n",
    "\n",
    "LiteLLM supports all Featherless AI models. You just need to prefix the model name with `featherless_ai/`. [1]\n",
    "\n",
    "Some examples include: [1]\n",
    "- `featherless_ai/featherless-ai/Qwerky-72B`\n",
    "- `featherless_ai/featherless-ai/Qwerky-QwQ-32B`\n",
    "- `featherless_ai/Qwen/Qwen2.5-72B-Instruct`\n",
    "- `featherless_ai/all-hands/openhands-lm-32b-v0.1`\n",
    "\n",
    "For a complete list, visit the [Featherless AI models page](https://featherless.ai/models). [1]"
   ]
  }
 ],
 "metadata": {
  "kernelspec": {
   "display_name": "notebooks",
   "language": "python",
   "name": "python3"
  },
  "language_info": {
   "codemirror_mode": {
    "name": "ipython",
    "version": 3
   },
   "file_extension": ".py",
   "mimetype": "text/x-python",
   "name": "python",
   "nbconvert_exporter": "python",
   "pygments_lexer": "ipython3",
   "version": "3.11.3"
  }
 },
 "nbformat": 4,
 "nbformat_minor": 4
}
